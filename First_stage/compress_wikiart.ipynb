{
 "cells": [
  {
   "attachments": {},
   "cell_type": "markdown",
   "metadata": {},
   "source": [
    "# Convert the dataset representation in the latent Space format"
   ]
  },
  {
   "cell_type": "code",
   "execution_count": 1,
   "metadata": {},
   "outputs": [],
   "source": [
    "import sys\n",
    "sys.path.append(\"/mnt/data1/bardella_data/gitRepos/Deep-Learning-Techniques-for-Image-Generation-from-Music\")\n",
    "\n",
    "\n",
    "import torch, importlib, numpy as np, json, os\n",
    "from tqdm import tqdm\n",
    "import albumentations\n",
    "from PIL import Image\n",
    "from torchvision import transforms\n",
    "from omegaconf import OmegaConf\n",
    "\n",
    "device = \"cuda:0\" if torch.cuda.is_available() else None\n",
    "assert device\n",
    "\n",
    "\n",
    "def instantiate_from_config(config):\n",
    "    if not \"target\" in config:\n",
    "        if config == '__is_first_stage__':\n",
    "            return None\n",
    "        elif config == \"__is_unconditional__\":\n",
    "            return None\n",
    "        raise KeyError(\"Expected key `target` to instantiate.\")\n",
    "    return get_obj_from_str(config[\"target\"])(**config.get(\"params\", dict()))\n",
    "\n",
    "\n",
    "def get_obj_from_str(string, reload=False):\n",
    "    module, cls = string.rsplit(\".\", 1)\n",
    "    if reload:\n",
    "        module_imp = importlib.import_module(module)\n",
    "        importlib.reload(module_imp)\n",
    "    return getattr(importlib.import_module(module, package=None), cls)\n",
    "\n",
    "\n",
    "def load_model_from_config(config, ckpt, device):\n",
    "    print(f\"Loading model from {ckpt}\")\n",
    "    pl_sd = torch.load(ckpt, map_location=\"cpu\")\n",
    "    sd = pl_sd[\"state_dict\"]\n",
    "    model = instantiate_from_config(config)\n",
    "    m, u = model.load_state_dict(sd, strict=False)\n",
    "    model.to(device)\n",
    "    model.eval()\n",
    "    return model\n",
    "\n",
    "def preprocess_image(size, image_path):\n",
    "        \n",
    "    rescaler = albumentations.SmallestMaxSize(max_size = size)\n",
    "    cropper = albumentations.CenterCrop(height=size,width=size)\n",
    "    preprocessor = albumentations.Compose([rescaler, cropper])\n",
    "\n",
    "    image = Image.open(image_path)\n",
    "    if not image.mode == \"RGB\":\n",
    "        image = image.convert(\"RGB\")\n",
    "    image = np.array(image).astype(np.uint8)\n",
    "    image_transformed = preprocessor(image=image)[\"image\"]\n",
    "    image = (image_transformed/127.5 - 1.0).astype(np.float32)\n",
    "\n",
    "    return torch.tensor(image).permute(2, 0, 1)"
   ]
  },
  {
   "cell_type": "code",
   "execution_count": 2,
   "metadata": {},
   "outputs": [
    {
     "name": "stdout",
     "output_type": "stream",
     "text": [
      "Loading model from /mnt/data1/bardella_data/gitRepos/Deep-Learning-Techniques-for-Image-Generation-from-Music/pretrained_model/vq-f8/pretrained_last_openimage.ckpt\n",
      "making attention of type 'vanilla' with 512 in_channels\n",
      "making attention of type 'vanilla' with 512 in_channels\n",
      "making attention of type 'vanilla' with 512 in_channels\n",
      "Working with z of shape (1, 4, 32, 32) = 4096 dimensions.\n",
      "making attention of type 'vanilla' with 512 in_channels\n",
      "making attention of type 'vanilla' with 512 in_channels\n",
      "making attention of type 'vanilla' with 512 in_channels\n",
      "making attention of type 'vanilla' with 512 in_channels\n",
      "loaded pretrained LPIPS loss from /mnt/data1/bardella_data/gitRepos/Thesis/ldm_porting/pretrained_model/vgg/vgg.pth\n",
      "VQLPIPSWithDiscriminator running with hinge loss.\n"
     ]
    }
   ],
   "source": [
    "ROOT_PATH = \"/mnt/data1/bardella_data/gitRepos/Deep-Learning-Techniques-for-Image-Generation-from-Music\"\n",
    "\n",
    "ckpt_path = ROOT_PATH + \"/pretrained_model/vq-f8/pretrained_last_openimage.ckpt\"\n",
    "dataset_path = \"/mnt/data1/bardella_data/gitRepos/Thesis/Datasets/wikiart\"\n",
    "compressed_dataset_path = \"/mnt/data1/bardella_data/gitRepos/Thesis/Datasets/wikiart_compressed\"\n",
    "\n",
    "dataset_info_path = dataset_path + \"/dataset.json\"\n",
    "with open(dataset_info_path, \"r\") as info:\n",
    "    dataset_infos = json.load(info)[\"labels\"]\n",
    "\n",
    "experiment_cfg_path = ROOT_PATH + \"/configs/custom_vqgan.yaml\"\n",
    "config = OmegaConf.load(experiment_cfg_path)\n",
    "\n",
    "model = load_model_from_config(config=config.model, ckpt=ckpt_path, device=device)"
   ]
  },
  {
   "cell_type": "code",
   "execution_count": 3,
   "metadata": {},
   "outputs": [
    {
     "name": "stderr",
     "output_type": "stream",
     "text": [
      "100%|██████████| 19774/19774 [42:18<00:00,  7.79it/s]\n"
     ]
    }
   ],
   "source": [
    "samples = None\n",
    "for image_path, label in tqdm(dataset_infos[:samples]):\n",
    "\n",
    "    input_path = \"/\".join([dataset_path, image_path])\n",
    "    out_path = \"/\".join([compressed_dataset_path, image_path.split(\"/\")[-2]])\n",
    "    image_name = image_path.split(\"/\")[-1].split(\".\")[0]\n",
    "    \n",
    "    if not os.path.exists(out_path):\n",
    "        os.makedirs(out_path)\n",
    "\n",
    "    preprocessed_image = preprocess_image(size=512, image_path=input_path)\n",
    "    img_in = preprocessed_image.to(device=device).unsqueeze(dim=0)\n",
    "\n",
    "    quant, _, _  = model.encode(img_in)\n",
    "    quant.squeeze_(dim=0)\n",
    "\n",
    "    torch.save(quant, f\"{out_path}/{image_name}.pt\")"
   ]
  }
 ],
 "metadata": {
  "kernelspec": {
   "display_name": "thesis",
   "language": "python",
   "name": "python3"
  },
  "language_info": {
   "codemirror_mode": {
    "name": "ipython",
    "version": 3
   },
   "file_extension": ".py",
   "mimetype": "text/x-python",
   "name": "python",
   "nbconvert_exporter": "python",
   "pygments_lexer": "ipython3",
   "version": "3.9.16"
  },
  "orig_nbformat": 4
 },
 "nbformat": 4,
 "nbformat_minor": 2
}
