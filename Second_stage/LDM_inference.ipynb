{
 "cells": [
  {
   "cell_type": "code",
   "execution_count": 1,
   "metadata": {},
   "outputs": [
    {
     "name": "stderr",
     "output_type": "stream",
     "text": [
      "2023-07-17 01:12:38.174927: I tensorflow/stream_executor/platform/default/dso_loader.cc:49] Successfully opened dynamic library libcudart.so.10.1\n",
      "Global seed set to 43\n"
     ]
    },
    {
     "name": "stdout",
     "output_type": "stream",
     "text": [
      "Loading model from /mnt/data1/bardella_data/gitRepos/Thesis/ldm_porting/model_checkpts/ldm/wikiart/epoch=299-step=69600.ckpt\n",
      "LatentDiffusion: Running in eps-prediction mode\n",
      "DiffusionWrapper has 394.98 M params.\n",
      "Keeping EMAs of 628.\n",
      "making attention of type 'vanilla' with 512 in_channels\n",
      "making attention of type 'vanilla' with 512 in_channels\n",
      "making attention of type 'vanilla' with 512 in_channels\n",
      "Working with z of shape (1, 4, 32, 32) = 4096 dimensions.\n",
      "making attention of type 'vanilla' with 512 in_channels\n",
      "making attention of type 'vanilla' with 512 in_channels\n",
      "making attention of type 'vanilla' with 512 in_channels\n",
      "making attention of type 'vanilla' with 512 in_channels\n",
      "Restored from /mnt/data1/bardella_data/gitRepos/Deep-Learning-Techniques-for-Image-Generation-from-Music/pretrained_model/vq-f8/model.ckpt with 0 missing and 49 unexpected keys\n"
     ]
    }
   ],
   "source": [
    "# Set this path to be compatible with both linux and windows\n",
    "ROOT_PATH = \"F:\\\\Thesis\\\\Deep-Learning-Techniques-for-Image-Generation-from-Music\"\n",
    "\n",
    "import sys\n",
    "sys.path.append(ROOT_PATH)\n",
    "\n",
    "import torch\n",
    "from omegaconf import OmegaConf\n",
    "import os\n",
    "from modules.util import instantiate_from_config\n",
    "from pytorch_lightning import seed_everything\n",
    "from models.diffusion.ddim import DDIMSampler\n",
    "from models.diffusion.plms import PLMSSampler\n",
    "import numpy as np \n",
    "from PIL import Image\n",
    "from einops import rearrange\n",
    "from torchvision.utils import make_grid\n",
    "\n",
    "def load_model_from_config(config, ckpt, device_n):\n",
    "    print(f\"Loading model from {ckpt}\")\n",
    "    pl_sd = torch.load(ckpt, map_location=\"cpu\")\n",
    "    sd = pl_sd[\"state_dict\"]\n",
    "    model = instantiate_from_config(config.model)\n",
    "    m, u = model.load_state_dict(sd, strict=False)\n",
    "    device = torch.device(f\"cuda:{device_n}\")\n",
    "    model.to(device)\n",
    "    model.eval()\n",
    "\n",
    "    return model\n",
    "\n",
    "seed_everything(43) # Make the experiment reproducible\n",
    "torch.set_float32_matmul_precision('high')\n",
    "\n",
    "config = OmegaConf.load(ROOT_PATH + \"/configs/custom-ldm-cwa-vq-f8.yaml\")  \n",
    "sample_folder = ROOT_PATH + f\"/sample/wikiart/ldm\"\n",
    "\n",
    "vq_gan_pretrained_ckpt_path = ROOT_PATH + \"/pretrained_model/vq-f8/model.ckpt\"\n",
    "# ldm_pretrained_ckpt_path = ROOT_PATH + \"/model_checkpts/ldm/wikiart/epoch=136-step=31784.ckpt\"\n",
    "ldm_pretrained_ckpt_path = \"/mnt/data1/bardella_data/gitRepos/Thesis/ldm_porting/model_checkpts/ldm/wikiart/epoch=299-step=69600.ckpt\"\n",
    "config.model.params.first_stage_config.params[\"ckpt_path\"] = vq_gan_pretrained_ckpt_path\n",
    "\n",
    "model = load_model_from_config(config, ldm_pretrained_ckpt_path, device_n=0)\n",
    "#sampler = DDIMSampler(model)\n",
    "sampler = PLMSSampler(model)"
   ]
  },
  {
   "cell_type": "code",
   "execution_count": 2,
   "metadata": {},
   "outputs": [
    {
     "name": "stdout",
     "output_type": "stream",
     "text": [
      "rendering 15 examples of class '7' in 75 steps and using s=2.00.\n",
      "Data shape for PLMS sampling is (15, 4, 32, 32)\n",
      "Running PLMS Sampling with 77 timesteps\n"
     ]
    },
    {
     "name": "stderr",
     "output_type": "stream",
     "text": [
      "PLMS Sampler:   0%|          | 0/77 [00:00<?, ?it/s]"
     ]
    },
    {
     "name": "stderr",
     "output_type": "stream",
     "text": [
      "PLMS Sampler: 100%|██████████| 77/77 [00:41<00:00,  1.87it/s]\n"
     ]
    }
   ],
   "source": [
    "classes = [7]   # define classes to be sampled here\n",
    "n_samples_per_class = 15\n",
    "unconditional_class = 8\n",
    "\n",
    "ddim_steps = 75\n",
    "ddim_eta = 0\n",
    "scale = 2 # for unconditional guidance\n",
    "\n",
    "all_samples = list()\n",
    "\n",
    "with torch.no_grad():\n",
    "    with model.ema_scope():\n",
    "        uc = model.get_learned_conditioning({model.cond_stage_key: torch.tensor(n_samples_per_class*[unconditional_class]).to(model.device)})\n",
    "        \n",
    "        \n",
    "        for class_label in classes:\n",
    "            print(f\"rendering {n_samples_per_class} examples of class '{class_label}' in {ddim_steps} steps and using s={scale:.2f}.\")\n",
    "            xc = torch.tensor(n_samples_per_class*[class_label])\n",
    "            c = model.get_learned_conditioning({model.cond_stage_key: xc.to(model.device)})\n",
    "            \n",
    "            samples_ddim, _ = sampler.sample(S=ddim_steps,\n",
    "                                             conditioning=c,\n",
    "                                             batch_size=n_samples_per_class,\n",
    "                                             shape=[4, 32, 32],\n",
    "                                             verbose=False,\n",
    "                                             unconditional_guidance_scale=scale,\n",
    "                                             unconditional_conditioning=uc, \n",
    "                                             eta=ddim_eta)\n",
    "\n",
    "            x_samples_ddim = model.decode_first_stage(samples_ddim)\n",
    "            x_samples_ddim = torch.clamp((x_samples_ddim+1.0)/2.0, \n",
    "                                         min=0.0, max=1.0)\n",
    "            all_samples.append(x_samples_ddim)\n",
    "\n",
    "\n",
    "# display as grid\n",
    "grid = torch.stack(all_samples, 0)\n",
    "grid = rearrange(grid, 'n b c h w -> (n b) c h w')\n",
    "grid = make_grid(grid, nrow=n_samples_per_class)\n",
    "\n",
    "# to image\n",
    "grid = 255. * rearrange(grid, 'c h w -> h w c').cpu().numpy()\n",
    "img = Image.fromarray(grid.astype(np.uint8))\n",
    "\n",
    "\n",
    "# Save the producted image\n",
    "image_name = f\"sample_steps-{ddim_steps}_scale-{scale}_labels_-{','.join(str(n) for n in classes)}_eta-{ddim_eta}_uc-{unconditional_class}\"\n",
    "image_ext = \".png\"\n",
    "image_number = [0]\n",
    "for entry in os.listdir(sample_folder):\n",
    "    if os.path.isfile(os.path.join(sample_folder, entry)):\n",
    "        splitted_entry = entry[:-len(image_ext)].split(\"_\")\n",
    "        number = int(splitted_entry.pop(-1))\n",
    "        if splitted_entry == image_name.split(\"_\"):\n",
    "            image_number.append(number)\n",
    "\n",
    "img.save(sample_folder+\"/\"+image_name+\"_\"+str(max(image_number) + 1)+image_ext)"
   ]
  }
 ],
 "metadata": {
  "kernelspec": {
   "display_name": "thesis",
   "language": "python",
   "name": "python3"
  },
  "language_info": {
   "codemirror_mode": {
    "name": "ipython",
    "version": 3
   },
   "file_extension": ".py",
   "mimetype": "text/x-python",
   "name": "python",
   "nbconvert_exporter": "python",
   "pygments_lexer": "ipython3",
   "version": "3.11.3"
  },
  "orig_nbformat": 4
 },
 "nbformat": 4,
 "nbformat_minor": 2
}
